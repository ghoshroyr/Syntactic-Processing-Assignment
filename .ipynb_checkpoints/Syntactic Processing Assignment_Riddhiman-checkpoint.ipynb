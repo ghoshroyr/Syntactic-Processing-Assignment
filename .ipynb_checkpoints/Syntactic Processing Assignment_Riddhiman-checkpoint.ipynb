{
 "cells": [
  {
   "cell_type": "markdown",
   "id": "791fac98-7492-415f-8a6e-c310edf361c5",
   "metadata": {},
   "source": [
    "### Syntactic Processing Assignment"
   ]
  },
  {
   "cell_type": "code",
   "execution_count": 1,
   "id": "944076fa-4004-4893-be26-36f942227099",
   "metadata": {},
   "outputs": [],
   "source": [
    "# Library Import\n",
    "import pandas as pd\n",
    "import re\n",
    "import spacy\n",
    "import warnings\n",
    "warnings.filterwarnings('ignore')\n",
    "\n",
    "# Import model and metrics\n",
    "from sklearn_crfsuite import CRF, scorers, metrics"
   ]
  },
  {
   "cell_type": "code",
   "execution_count": 2,
   "id": "971e9b4f-fa22-4375-a81e-0b3eee3045e0",
   "metadata": {},
   "outputs": [],
   "source": [
    "# Import spacy small library to find medical related entities\n",
    "model= spacy.load(\"en_core_web_sm\")"
   ]
  },
  {
   "cell_type": "markdown",
   "id": "0b28a800-eddc-4b2c-bed6-cafa5b434c8a",
   "metadata": {},
   "source": [
    "### Reading the Dataset"
   ]
  },
  {
   "cell_type": "code",
   "execution_count": 3,
   "id": "d0658517-120f-424e-9462-7f787328a967",
   "metadata": {},
   "outputs": [],
   "source": [
    "# Reading the train and test sentences and labels\n",
    "with open('C:/Users/RIDDHIMAN/Syntactic Processing Assignment/train_sent', 'r') as train_sent_file:\n",
    "  train_words = train_sent_file.readlines()\n",
    "\n",
    "with open('C:/Users/RIDDHIMAN/Syntactic Processing Assignment/train_label', 'r') as train_labels_file:\n",
    "  train_labels_by_word = train_labels_file.readlines()\n",
    "\n",
    "with open('C:/Users/RIDDHIMAN/Syntactic Processing Assignment/test_sent', 'r') as test_sent_file:\n",
    "  test_words = test_sent_file.readlines()\n",
    "\n",
    "with open('C:/Users/RIDDHIMAN/Syntactic Processing Assignment/test_label', 'r') as test_labels_file:\n",
    "  test_labels_by_word = test_labels_file.readlines()"
   ]
  },
  {
   "cell_type": "markdown",
   "id": "a12cb374-7cd1-43b4-8052-548bfbb44d94",
   "metadata": {},
   "source": [
    "### Data Preprocessing"
   ]
  },
  {
   "cell_type": "code",
   "execution_count": 4,
   "id": "e175358f-0440-485c-96b9-e054fd778395",
   "metadata": {},
   "outputs": [
    {
     "name": "stdout",
     "output_type": "stream",
     "text": [
      "Count of tokens in training set\n",
      " No. of words:  48501 \n",
      "No. of labels:  48501\n",
      "\n",
      "\n",
      "Count of tokens in test set\n",
      " No. of words:  19674 \n",
      "No. of labels:  19674\n"
     ]
    }
   ],
   "source": [
    "# Sanity check to see that the number of tokens and no. of corresponding labels match.\n",
    "print(\"Count of tokens in training set\\n\",\"No. of words: \",len(train_words),\"\\nNo. of labels: \",len(train_labels_by_word))\n",
    "print(\"\\n\\nCount of tokens in test set\\n\",\"No. of words: \",len(test_words),\"\\nNo. of labels: \",len(test_labels_by_word))"
   ]
  },
  {
   "cell_type": "code",
   "execution_count": 5,
   "id": "d2eaf49f-74cf-4ad2-a947-cf9706cfb29c",
   "metadata": {},
   "outputs": [],
   "source": [
    "# Function to combine tokens belonging to the same sentence. Sentences are separated by \"\\n\" in the dataset.\n",
    "def convert_to_sentences(dataset):\n",
    "    sent_list = []\n",
    "    sent = \"\"\n",
    "    for entity in dataset:\n",
    "        if entity != '\\n':\n",
    "            sent = sent + entity[:-1] + \" \"       # Adding word/label to current sentence / sequence of labels \n",
    "        else: \n",
    "            sent_list.append(sent[:-1])           # Getting rid of the space added after the last entity.\n",
    "            sent = \"\"\n",
    "    return sent_list"
   ]
  },
  {
   "cell_type": "code",
   "execution_count": 6,
   "id": "d54835ac-f509-46df-b6a2-b84ee41a0440",
   "metadata": {},
   "outputs": [],
   "source": [
    "# Converting tokens to sentences and individual labels to sequences of corresponding labels.\n",
    "train_sentences = convert_to_sentences(train_words)\n",
    "train_labels = convert_to_sentences(train_labels_by_word)\n",
    "test_sentences = convert_to_sentences(test_words)\n",
    "test_labels = convert_to_sentences(test_labels_by_word)"
   ]
  },
  {
   "cell_type": "code",
   "execution_count": 7,
   "id": "46eb52a3-6701-4602-a71f-02d38f1c1a6b",
   "metadata": {},
   "outputs": [
    {
     "name": "stdout",
     "output_type": "stream",
     "text": [
      "First five training sentences and their labels:\n",
      "\n",
      "All live births > or = 23 weeks at the University of Vermont in 1995 ( n = 2395 ) were retrospectively analyzed for delivery route , indication for cesarean , gestational age , parity , and practice group ( to reflect risk status ) \n",
      " O O O O O O O O O O O O O O O O O O O O O O O O O O O O O O O O O O O O O O O O O O O O O \n",
      "\n",
      "The total cesarean rate was 14.4 % ( 344 of 2395 ) , and the primary rate was 11.4 % ( 244 of 2144 ) \n",
      " O O O O O O O O O O O O O O O O O O O O O O O O O \n",
      "\n",
      "Abnormal presentation was the most common indication ( 25.6 % , 88 of 344 ) \n",
      " O O O O O O O O O O O O O O O \n",
      "\n",
      "The `` corrected '' cesarean rate ( maternal-fetal medicine and transported patients excluded ) was 12.4 % ( 273 of 2194 ) , and the `` corrected '' primary rate was 9.6 % ( 190 of 1975 ) \n",
      " O O O O O O O O O O O O O O O O O O O O O O O O O O O O O O O O O O O O O O \n",
      "\n",
      "Arrest of dilation was the most common indication in both `` corrected '' subgroups ( 23.4 and 24.6 % , respectively ) \n",
      " O O O O O O O O O O O O O O O O O O O O O O \n",
      "\n"
     ]
    }
   ],
   "source": [
    "print(\"First five training sentences and their labels:\\n\")\n",
    "for i in range(5):\n",
    "    print(train_sentences[i],\"\\n\",train_labels[i],\"\\n\")"
   ]
  },
  {
   "cell_type": "code",
   "execution_count": 8,
   "id": "039ab364-3e32-4b36-a580-5b9e27ca775b",
   "metadata": {},
   "outputs": [
    {
     "name": "stdout",
     "output_type": "stream",
     "text": [
      "First five test sentences and their labels:\n",
      "\n",
      "Furthermore , when all deliveries were analyzed , regardless of risk status but limited to gestational age > or = 36 weeks , the rates did not change ( 12.6 % , 280 of 2214 ; primary 9.2 % , 183 of 1994 ) \n",
      " O O O O O O O O O O O O O O O O O O O O O O O O O O O O O O O O O O O O O O O O O O O O \n",
      "\n",
      "As the ambient temperature increases , there is an increase in insensible fluid loss and the potential for dehydration \n",
      " O O O O O O O O O O O O O O O O O O O \n",
      "\n",
      "The daily high temperature ranged from 71 to 104 degrees F and AFI values ranged from 1.7 to 24.7 cm during the study period \n",
      " O O O O O O O O O O O O O O O O O O O O O O O O \n",
      "\n",
      "There was a significant correlation between the 2- , 3- , and 4-day mean temperature and AFI , with the 4-day mean being the most significant ( r = 0.31 , p & # 60 ; 0.001 ) \n",
      " O O O O O O O O O O O O O O O O O O O O O O O O O O O O O O O O O O O O O O \n",
      "\n",
      "Fluctuations in ambient temperature are inversely correlated to changes in AFI \n",
      " O O O O O O O O O O O \n",
      "\n"
     ]
    }
   ],
   "source": [
    "print(\"First five test sentences and their labels:\\n\")\n",
    "for i in range(5):\n",
    "    print(test_sentences[i],\"\\n\",test_labels[i],\"\\n\")"
   ]
  },
  {
   "cell_type": "code",
   "execution_count": 9,
   "id": "33fbb04d-16cf-4a53-a6d1-333f20ac6a15",
   "metadata": {},
   "outputs": [
    {
     "name": "stdout",
     "output_type": "stream",
     "text": [
      "Number of sentences in the train dataset: 2599\n",
      "Number of sentences in the test dataset: 1056\n"
     ]
    }
   ],
   "source": [
    "print(\"Number of sentences in the train dataset: {}\".format(len(train_sentences)))\n",
    "print(\"Number of sentences in the test dataset: {}\".format(len(test_sentences)))"
   ]
  },
  {
   "cell_type": "code",
   "execution_count": 10,
   "id": "9669d6d8-677f-4606-9ed8-ee400f495f36",
   "metadata": {},
   "outputs": [
    {
     "name": "stdout",
     "output_type": "stream",
     "text": [
      "Number of lines of labels in the train dataset: 2599\n",
      "Number of lines of labels in the test dataset: 1056\n"
     ]
    }
   ],
   "source": [
    "print(\"Number of lines of labels in the train dataset: {}\".format(len(train_labels)))\n",
    "print(\"Number of lines of labels in the test dataset: {}\".format(len(test_labels)))"
   ]
  },
  {
   "cell_type": "markdown",
   "id": "5ebc2976-6c30-4e00-8733-95a37f8ea4ba",
   "metadata": {},
   "source": [
    "### Concept Identification"
   ]
  },
  {
   "cell_type": "code",
   "execution_count": 11,
   "id": "eb17c127-a600-4ad3-b13e-ca11879fc822",
   "metadata": {},
   "outputs": [
    {
     "name": "stdout",
     "output_type": "stream",
     "text": [
      "Number of sentences in combined dataset (training + test): 3655\n"
     ]
    }
   ],
   "source": [
    "# Creating a combined dataset from training and test sentences, since this is an Exploratory analysis.\n",
    "combined = train_sentences + test_sentences\n",
    "print(\"Number of sentences in combined dataset (training + test): {}\".format(len(combined)))"
   ]
  },
  {
   "cell_type": "code",
   "execution_count": 12,
   "id": "96fbce45-acf7-4131-97ca-40156151ca78",
   "metadata": {},
   "outputs": [
    {
     "name": "stdout",
     "output_type": "stream",
     "text": [
      "No. of tokens in combined dataset with PoS tag of 'NOUN' or 'PROPN': 24376\n"
     ]
    }
   ],
   "source": [
    "# Creating a list of tokens which have PoS tag of 'NOUN' or 'PROPN'\n",
    "noun_propn = []         # Initiating list for nouns and proper nouns\n",
    "pos_tag = []            # initiating list for corresponding PoS tags.\n",
    "for sent in combined:\n",
    "    for token in model(sent):\n",
    "        if token.pos_ in ['NOUN', 'PROPN']:\n",
    "           noun_propn.append(token.text)\n",
    "           pos_tag.append(token.pos_)\n",
    "print(\"No. of tokens in combined dataset with PoS tag of 'NOUN' or 'PROPN': {}\".format(len(noun_propn)))"
   ]
  },
  {
   "cell_type": "code",
   "execution_count": 13,
   "id": "8123e39a-653f-4988-a806-b68ae23bfb42",
   "metadata": {},
   "outputs": [
    {
     "name": "stdout",
     "output_type": "stream",
     "text": [
      "24376\n"
     ]
    }
   ],
   "source": [
    "print(len(pos_tag))"
   ]
  },
  {
   "cell_type": "code",
   "execution_count": 14,
   "id": "a4d818f6-9704-4ab2-bed3-765fdeca0d30",
   "metadata": {},
   "outputs": [
    {
     "name": "stdout",
     "output_type": "stream",
     "text": [
      "Top 25 comon tokens with PoS tag of 'NOUN' or 'PROPN' \n",
      "\n",
      "NOUN_PROPN\n",
      "patients        492\n",
      "treatment       281\n",
      "%               247\n",
      "cancer          200\n",
      "therapy         175\n",
      "study           154\n",
      "disease         142\n",
      "cell            140\n",
      "lung            116\n",
      "group            94\n",
      "chemotherapy     88\n",
      "gene             87\n",
      "effects          85\n",
      "results          79\n",
      "women            77\n",
      "use              74\n",
      "TO_SEE           74\n",
      "surgery          71\n",
      "cases            71\n",
      "risk             71\n",
      "analysis         70\n",
      "rate             67\n",
      "response         66\n",
      "survival         65\n",
      "children         64\n",
      "Name: count, dtype: int64\n"
     ]
    }
   ],
   "source": [
    "noun_pos = pd.DataFrame({\"NOUN_PROPN\":noun_propn,\"POS_tag\":pos_tag})\n",
    "print(\"Top 25 comon tokens with PoS tag of 'NOUN' or 'PROPN' \\n\")\n",
    "print(noun_pos[\"NOUN_PROPN\"].value_counts().head(25))"
   ]
  },
  {
   "cell_type": "markdown",
   "id": "499714ff-37a9-4578-914a-c30c6642b3d1",
   "metadata": {},
   "source": [
    "### Defining Features for CRF"
   ]
  },
  {
   "cell_type": "code",
   "execution_count": 15,
   "id": "77a5d62e-2d47-4453-8d63-ffeec773110c",
   "metadata": {},
   "outputs": [
    {
     "name": "stdout",
     "output_type": "stream",
     "text": [
      "The total cesarean rate was 14.4 % ( 344 of 2395 ) , and the primary rate was 11.4 % ( 244 of 2144 )\n",
      "\n",
      "PoS tag of word in isolation\n",
      "Word: cesarean -- VERB \n",
      "\n",
      "PoS tag of all words in sentence with context in tact.\n",
      "The -- DET\n",
      "total -- ADJ\n",
      "cesarean -- ADJ\n",
      "rate -- NOUN\n",
      "was -- AUX\n",
      "14.4 -- NUM\n",
      "% -- NOUN\n",
      "( -- PUNCT\n",
      "344 -- NUM\n",
      "of -- ADP\n",
      "2395 -- NUM\n",
      ") -- PUNCT\n",
      ", -- PUNCT\n",
      "and -- CCONJ\n",
      "the -- DET\n",
      "primary -- ADJ\n",
      "rate -- NOUN\n",
      "was -- AUX\n",
      "11.4 -- NUM\n",
      "% -- NOUN\n",
      "( -- PUNCT\n",
      "244 -- NUM\n",
      "of -- ADP\n",
      "2144 -- NUM\n",
      ") -- PUNCT\n",
      "\n",
      "Result of modified workflow to obtain PoS tag of word at a specific position while keeping context within sentence in-tact.\n",
      "Word: cesarean POSTAG: ADJ\n"
     ]
    }
   ],
   "source": [
    "# Analysis of PoS tags - Independent assignment for words vs Contextual assignment in a sentence.\n",
    "sentence = train_sentences[1]   \n",
    "sent_list = sentence.split()      # Splitting the sentence into its constituent words.\n",
    "position = 2                      # Choosing position of word within sentence. Index starts at 0.\n",
    "\n",
    "word = sent_list[position]        # Extracting word for PoS tag analysis.\n",
    "\n",
    "print(sentence)\n",
    "\n",
    "# Independent assignment of PoS tag (No contextual info)\n",
    "print(\"\\nPoS tag of word in isolation\\nWord:\",word,\"--\",model(word)[0].pos_,\"\\n\")\n",
    "\n",
    "# Contextual assignment of PoS tag based on other words in the sentence.\n",
    "print(\"PoS tag of all words in sentence with context in tact.\")\n",
    "for token in model(sentence):\n",
    "    print(token.text, \"--\", token.pos_)\n",
    "\n",
    "# Modified workflow to obtain PoS tag of specific word in question while keeping sentence context in tact.\n",
    "print(\"\\nResult of modified workflow to obtain PoS tag of word at a specific position while keeping context within sentence in-tact.\")\n",
    "cnt = 0                           # Count of the word position within sentence.\n",
    "for token in model(sentence):\n",
    "      postag = token.pos_\n",
    "      if (token.text == word) and (cnt == position):\n",
    "          break\n",
    "      cnt += 1\n",
    "print(\"Word:\", word,\"POSTAG:\",postag)"
   ]
  },
  {
   "cell_type": "code",
   "execution_count": 16,
   "id": "8c36d5fd-86d4-4957-8522-7471d31aadab",
   "metadata": {},
   "outputs": [],
   "source": [
    "# Function to obtain contextual PoS tagger.\n",
    "def contextual_pos_tagger(sent_list,position):\n",
    "    '''Obtaining PoS tag for individual word with sentence context in-tact. \n",
    "       If the PoS tag is obtained for a word individually, it may not capture the context of use in the sentence and may assign the incorrect PoS tag.'''\n",
    "\n",
    "    sentence = \" \".join(sent_list)          # Sentence needs to be in string format to process it with spacy model. List of words won't work.\n",
    "    posit = 0                               # Initialising variable to record position of word in joined sentence to compare with the position of the word under considertion.\n",
    "    for token in model(sentence):\n",
    "        postag = token.pos_\n",
    "        if (token.text == word) and (posit == position):\n",
    "            break\n",
    "        posit += 1\n",
    "    return postag"
   ]
  },
  {
   "cell_type": "code",
   "execution_count": 17,
   "id": "ea1f31e1-8346-47ad-87cd-e784c5005961",
   "metadata": {},
   "outputs": [],
   "source": [
    "# Define the features to get the feature values for one word.\n",
    "def getFeaturesForOneWord(sent_list, position):\n",
    "  word = sent_list[position]\n",
    "    \n",
    "  # Obtaining features for current word\n",
    "  features = [\n",
    "    'word.lower=' + word.lower(),                                   # serves as word id\n",
    "    'word.postag=' + contextual_pos_tagger(sent_list, position),    # PoS tag of current word\n",
    "    'word[-3:]=' + word[-3:],                                       # last three characters\n",
    "    'word[-2:]=' + word[-2:],                                       # last two characters\n",
    "    'word.isupper=%s' % word.isupper(),                             # is the word in all uppercase\n",
    "    'word.isdigit=%s' % word.isdigit(),                             # is the word a number\n",
    "    'words.startsWithCapital=%s' % word[0].isupper()                # is the word starting with a capital letter\n",
    "  ]\n",
    " \n",
    "  if(position > 0):\n",
    "    prev_word = sent_list[position-1]\n",
    "    features.extend([\n",
    "    'prev_word.lower=' + prev_word.lower(),                               # previous word\n",
    "    'prev_word.postag=' + contextual_pos_tagger(sent_list, position - 1), # PoS tag of previous word\n",
    "    'prev_word.isupper=%s' % prev_word.isupper(),                         # is the previous word in all uppercase\n",
    "    'prev_word.isdigit=%s' % prev_word.isdigit(),                         # is the previous word a number\n",
    "    'prev_words.startsWithCapital=%s' % prev_word[0].isupper()            # is the previous word starting with a capital letter\n",
    "  ])\n",
    "  else:\n",
    "    features.append('BEG')                                                # feature to track begin of sentence \n",
    " \n",
    "  if(position == len(sent_list)-1):\n",
    "    features.append('END')                                                # feature to track end of sentence\n",
    " \n",
    "  return features"
   ]
  },
  {
   "cell_type": "markdown",
   "id": "062d1692-b143-4dd6-a4e8-13e076cc8098",
   "metadata": {},
   "source": [
    "### Getting the Features"
   ]
  },
  {
   "cell_type": "code",
   "execution_count": 18,
   "id": "37efb02f-6ae7-4b88-a734-8bb6247b384f",
   "metadata": {},
   "outputs": [],
   "source": [
    "# Write a code to get features for a sentence.\n",
    "def getFeaturesForOneSentence(sentence):\n",
    "  sentence_list = sentence.split()\n",
    "  return [getFeaturesForOneWord(sentence_list, position) for position in range(len(sentence_list))]"
   ]
  },
  {
   "cell_type": "code",
   "execution_count": 19,
   "id": "fa228669-9b1d-420f-9628-6a69bab10e39",
   "metadata": {},
   "outputs": [
    {
     "name": "stdout",
     "output_type": "stream",
     "text": [
      "Cesarean rates at tertiary care hospitals should be compared with rates at community hospitals only after correcting for dissimilar patient groups or gestational age\n"
     ]
    },
    {
     "data": {
      "text/plain": [
       "['word.lower=cesarean',\n",
       " 'word.postag=NOUN',\n",
       " 'word[-3:]=ean',\n",
       " 'word[-2:]=an',\n",
       " 'word.isupper=False',\n",
       " 'word.isdigit=False',\n",
       " 'words.startsWithCapital=True',\n",
       " 'BEG']"
      ]
     },
     "execution_count": 19,
     "metadata": {},
     "output_type": "execute_result"
    }
   ],
   "source": [
    "# Checking feature extraction\n",
    "example_sentence = train_sentences[5]\n",
    "print(example_sentence)\n",
    "\n",
    "features = getFeaturesForOneSentence(example_sentence)\n",
    "features[0]"
   ]
  },
  {
   "cell_type": "code",
   "execution_count": 20,
   "id": "c5af4fed-65a3-46b1-9e63-d9a6fa3be4da",
   "metadata": {},
   "outputs": [
    {
     "data": {
      "text/plain": [
       "['word.lower=care',\n",
       " 'word.postag=NOUN',\n",
       " 'word[-3:]=are',\n",
       " 'word[-2:]=re',\n",
       " 'word.isupper=False',\n",
       " 'word.isdigit=False',\n",
       " 'words.startsWithCapital=False',\n",
       " 'prev_word.lower=tertiary',\n",
       " 'prev_word.postag=NOUN',\n",
       " 'prev_word.isupper=False',\n",
       " 'prev_word.isdigit=False',\n",
       " 'prev_words.startsWithCapital=False']"
      ]
     },
     "execution_count": 20,
     "metadata": {},
     "output_type": "execute_result"
    }
   ],
   "source": [
    "features[4]"
   ]
  },
  {
   "cell_type": "code",
   "execution_count": 21,
   "id": "5a48543e-8787-4fdf-8888-7ac7b6035c84",
   "metadata": {},
   "outputs": [],
   "source": [
    "# Write a code to get the labels for a sentence.\n",
    "def getLabelsInListForOneSentence(labels):\n",
    "  return labels.split()"
   ]
  },
  {
   "cell_type": "code",
   "execution_count": 22,
   "id": "1a14680e-c658-41af-8d04-7d805185be0b",
   "metadata": {},
   "outputs": [
    {
     "name": "stdout",
     "output_type": "stream",
     "text": [
      "['O', 'O', 'O', 'O', 'O', 'O', 'O', 'O', 'O', 'O', 'O', 'O', 'O', 'O', 'O', 'O', 'O', 'O', 'O', 'O', 'O', 'O', 'O', 'O']\n"
     ]
    }
   ],
   "source": [
    "# Checking label extraction\n",
    "example_labels = getLabelsInListForOneSentence(train_labels[5])\n",
    "print(example_labels)"
   ]
  },
  {
   "cell_type": "markdown",
   "id": "e9861770-8681-433b-80a3-0d4b122deb14",
   "metadata": {},
   "source": [
    "### Defining Input and Target Variables"
   ]
  },
  {
   "cell_type": "code",
   "execution_count": 23,
   "id": "45f7ec48-1272-4a73-a418-7fddc1677016",
   "metadata": {},
   "outputs": [],
   "source": [
    "X_train = [getFeaturesForOneSentence(sentence) for sentence in train_sentences]\n",
    "X_test = [getFeaturesForOneSentence(sentence) for sentence in test_sentences]"
   ]
  },
  {
   "cell_type": "code",
   "execution_count": 24,
   "id": "11960284-9a69-448a-9dc4-7f9d4128be97",
   "metadata": {},
   "outputs": [],
   "source": [
    "Y_train = [getLabelsInListForOneSentence(labels) for labels in train_labels]\n",
    "Y_test = [getLabelsInListForOneSentence(labels) for labels in test_labels]"
   ]
  },
  {
   "cell_type": "markdown",
   "id": "5eb0c882-3582-430f-9326-21bbf1b87a41",
   "metadata": {},
   "source": [
    "### Building the CRF Model"
   ]
  },
  {
   "cell_type": "code",
   "execution_count": 26,
   "id": "211099e1-d9e3-4373-8669-e72eec493fe0",
   "metadata": {},
   "outputs": [],
   "source": [
    "import sklearn_crfsuite"
   ]
  },
  {
   "cell_type": "code",
   "execution_count": 27,
   "id": "231dcc0c-9ad3-4767-9701-2330eb12e9a1",
   "metadata": {},
   "outputs": [
    {
     "data": {
      "text/html": [
       "<style>#sk-container-id-1 {color: black;background-color: white;}#sk-container-id-1 pre{padding: 0;}#sk-container-id-1 div.sk-toggleable {background-color: white;}#sk-container-id-1 label.sk-toggleable__label {cursor: pointer;display: block;width: 100%;margin-bottom: 0;padding: 0.3em;box-sizing: border-box;text-align: center;}#sk-container-id-1 label.sk-toggleable__label-arrow:before {content: \"▸\";float: left;margin-right: 0.25em;color: #696969;}#sk-container-id-1 label.sk-toggleable__label-arrow:hover:before {color: black;}#sk-container-id-1 div.sk-estimator:hover label.sk-toggleable__label-arrow:before {color: black;}#sk-container-id-1 div.sk-toggleable__content {max-height: 0;max-width: 0;overflow: hidden;text-align: left;background-color: #f0f8ff;}#sk-container-id-1 div.sk-toggleable__content pre {margin: 0.2em;color: black;border-radius: 0.25em;background-color: #f0f8ff;}#sk-container-id-1 input.sk-toggleable__control:checked~div.sk-toggleable__content {max-height: 200px;max-width: 100%;overflow: auto;}#sk-container-id-1 input.sk-toggleable__control:checked~label.sk-toggleable__label-arrow:before {content: \"▾\";}#sk-container-id-1 div.sk-estimator input.sk-toggleable__control:checked~label.sk-toggleable__label {background-color: #d4ebff;}#sk-container-id-1 div.sk-label input.sk-toggleable__control:checked~label.sk-toggleable__label {background-color: #d4ebff;}#sk-container-id-1 input.sk-hidden--visually {border: 0;clip: rect(1px 1px 1px 1px);clip: rect(1px, 1px, 1px, 1px);height: 1px;margin: -1px;overflow: hidden;padding: 0;position: absolute;width: 1px;}#sk-container-id-1 div.sk-estimator {font-family: monospace;background-color: #f0f8ff;border: 1px dotted black;border-radius: 0.25em;box-sizing: border-box;margin-bottom: 0.5em;}#sk-container-id-1 div.sk-estimator:hover {background-color: #d4ebff;}#sk-container-id-1 div.sk-parallel-item::after {content: \"\";width: 100%;border-bottom: 1px solid gray;flex-grow: 1;}#sk-container-id-1 div.sk-label:hover label.sk-toggleable__label {background-color: #d4ebff;}#sk-container-id-1 div.sk-serial::before {content: \"\";position: absolute;border-left: 1px solid gray;box-sizing: border-box;top: 0;bottom: 0;left: 50%;z-index: 0;}#sk-container-id-1 div.sk-serial {display: flex;flex-direction: column;align-items: center;background-color: white;padding-right: 0.2em;padding-left: 0.2em;position: relative;}#sk-container-id-1 div.sk-item {position: relative;z-index: 1;}#sk-container-id-1 div.sk-parallel {display: flex;align-items: stretch;justify-content: center;background-color: white;position: relative;}#sk-container-id-1 div.sk-item::before, #sk-container-id-1 div.sk-parallel-item::before {content: \"\";position: absolute;border-left: 1px solid gray;box-sizing: border-box;top: 0;bottom: 0;left: 50%;z-index: -1;}#sk-container-id-1 div.sk-parallel-item {display: flex;flex-direction: column;z-index: 1;position: relative;background-color: white;}#sk-container-id-1 div.sk-parallel-item:first-child::after {align-self: flex-end;width: 50%;}#sk-container-id-1 div.sk-parallel-item:last-child::after {align-self: flex-start;width: 50%;}#sk-container-id-1 div.sk-parallel-item:only-child::after {width: 0;}#sk-container-id-1 div.sk-dashed-wrapped {border: 1px dashed gray;margin: 0 0.4em 0.5em 0.4em;box-sizing: border-box;padding-bottom: 0.4em;background-color: white;}#sk-container-id-1 div.sk-label label {font-family: monospace;font-weight: bold;display: inline-block;line-height: 1.2em;}#sk-container-id-1 div.sk-label-container {text-align: center;}#sk-container-id-1 div.sk-container {/* jupyter's `normalize.less` sets `[hidden] { display: none; }` but bootstrap.min.css set `[hidden] { display: none !important; }` so we also need the `!important` here to be able to override the default hidden behavior on the sphinx rendered scikit-learn.org. See: https://github.com/scikit-learn/scikit-learn/issues/21755 */display: inline-block !important;position: relative;}#sk-container-id-1 div.sk-text-repr-fallback {display: none;}</style><div id=\"sk-container-id-1\" class=\"sk-top-container\"><div class=\"sk-text-repr-fallback\"><pre>CRF(max_iterations=300)</pre><b>In a Jupyter environment, please rerun this cell to show the HTML representation or trust the notebook. <br />On GitHub, the HTML representation is unable to render, please try loading this page with nbviewer.org.</b></div><div class=\"sk-container\" hidden><div class=\"sk-item\"><div class=\"sk-estimator sk-toggleable\"><input class=\"sk-toggleable__control sk-hidden--visually\" id=\"sk-estimator-id-1\" type=\"checkbox\" checked><label for=\"sk-estimator-id-1\" class=\"sk-toggleable__label sk-toggleable__label-arrow\">CRF</label><div class=\"sk-toggleable__content\"><pre>CRF(max_iterations=300)</pre></div></div></div></div></div>"
      ],
      "text/plain": [
       "CRF(max_iterations=300)"
      ]
     },
     "execution_count": 27,
     "metadata": {},
     "output_type": "execute_result"
    }
   ],
   "source": [
    "# Building the CRF model. Using max_iterations as 200.\n",
    "crf = sklearn_crfsuite.CRF(max_iterations=300)\n",
    "\n",
    "crf.fit(X_train, Y_train)"
   ]
  },
  {
   "cell_type": "markdown",
   "id": "c81a55b2-2c25-42cb-ac11-6b463b14aa7b",
   "metadata": {},
   "source": [
    "### Evaluation"
   ]
  },
  {
   "cell_type": "code",
   "execution_count": 28,
   "id": "03880155-0593-4083-b914-c2b6d097c752",
   "metadata": {},
   "outputs": [],
   "source": [
    "Y_pred = crf.predict(X_test)"
   ]
  },
  {
   "cell_type": "code",
   "execution_count": 29,
   "id": "79646989-bba6-452c-b58f-40da5698c1d4",
   "metadata": {},
   "outputs": [
    {
     "data": {
      "text/plain": [
       "0.9073062342668767"
      ]
     },
     "execution_count": 29,
     "metadata": {},
     "output_type": "execute_result"
    }
   ],
   "source": [
    "metrics.flat_f1_score(Y_test, Y_pred, average='weighted')"
   ]
  },
  {
   "cell_type": "code",
   "execution_count": 30,
   "id": "dbf66c17-e3d2-4e53-addb-0ddbcb7935b1",
   "metadata": {},
   "outputs": [
    {
     "name": "stdout",
     "output_type": "stream",
     "text": [
      "Sentence:  The objective of this study was to determine if the rate of preeclampsia is increased in triplet as compared to twin gestations\n",
      "Actual labels:     ['O', 'O', 'O', 'O', 'O', 'O', 'O', 'O', 'O', 'O', 'O', 'O', 'D', 'O', 'O', 'O', 'O', 'O', 'O', 'O', 'O', 'O']\n",
      "Predicted labels:  ['O', 'O', 'O', 'O', 'O', 'O', 'O', 'O', 'O', 'O', 'O', 'O', 'D', 'O', 'O', 'O', 'O', 'O', 'O', 'O', 'O', 'O']\n"
     ]
    }
   ],
   "source": [
    "# Example test sentence and corresponding actual and predicted labels \n",
    "print(\"Sentence: \",test_sentences[13])\n",
    "print(\"Actual labels:    \", Y_test[13])\n",
    "print(\"Predicted labels: \", Y_pred[13])"
   ]
  },
  {
   "cell_type": "code",
   "execution_count": 31,
   "id": "4cf0cd1a-65aa-4d2b-9768-f2da9ab044c9",
   "metadata": {},
   "outputs": [
    {
     "name": "stdout",
     "output_type": "stream",
     "text": [
      "[['word.lower=the', 'word.postag=NOUN', 'word[-3:]=The', 'word[-2:]=he', 'word.isupper=False', 'word.isdigit=False', 'words.startsWithCapital=True', 'BEG'], ['word.lower=objective', 'word.postag=NOUN', 'word[-3:]=ive', 'word[-2:]=ve', 'word.isupper=False', 'word.isdigit=False', 'words.startsWithCapital=False', 'prev_word.lower=the', 'prev_word.postag=NOUN', 'prev_word.isupper=False', 'prev_word.isdigit=False', 'prev_words.startsWithCapital=True'], ['word.lower=of', 'word.postag=NOUN', 'word[-3:]=of', 'word[-2:]=of', 'word.isupper=False', 'word.isdigit=False', 'words.startsWithCapital=False', 'prev_word.lower=objective', 'prev_word.postag=NOUN', 'prev_word.isupper=False', 'prev_word.isdigit=False', 'prev_words.startsWithCapital=False'], ['word.lower=this', 'word.postag=NOUN', 'word[-3:]=his', 'word[-2:]=is', 'word.isupper=False', 'word.isdigit=False', 'words.startsWithCapital=False', 'prev_word.lower=of', 'prev_word.postag=NOUN', 'prev_word.isupper=False', 'prev_word.isdigit=False', 'prev_words.startsWithCapital=False'], ['word.lower=study', 'word.postag=NOUN', 'word[-3:]=udy', 'word[-2:]=dy', 'word.isupper=False', 'word.isdigit=False', 'words.startsWithCapital=False', 'prev_word.lower=this', 'prev_word.postag=NOUN', 'prev_word.isupper=False', 'prev_word.isdigit=False', 'prev_words.startsWithCapital=False'], ['word.lower=was', 'word.postag=NOUN', 'word[-3:]=was', 'word[-2:]=as', 'word.isupper=False', 'word.isdigit=False', 'words.startsWithCapital=False', 'prev_word.lower=study', 'prev_word.postag=NOUN', 'prev_word.isupper=False', 'prev_word.isdigit=False', 'prev_words.startsWithCapital=False'], ['word.lower=to', 'word.postag=NOUN', 'word[-3:]=to', 'word[-2:]=to', 'word.isupper=False', 'word.isdigit=False', 'words.startsWithCapital=False', 'prev_word.lower=was', 'prev_word.postag=NOUN', 'prev_word.isupper=False', 'prev_word.isdigit=False', 'prev_words.startsWithCapital=False'], ['word.lower=determine', 'word.postag=NOUN', 'word[-3:]=ine', 'word[-2:]=ne', 'word.isupper=False', 'word.isdigit=False', 'words.startsWithCapital=False', 'prev_word.lower=to', 'prev_word.postag=NOUN', 'prev_word.isupper=False', 'prev_word.isdigit=False', 'prev_words.startsWithCapital=False'], ['word.lower=if', 'word.postag=NOUN', 'word[-3:]=if', 'word[-2:]=if', 'word.isupper=False', 'word.isdigit=False', 'words.startsWithCapital=False', 'prev_word.lower=determine', 'prev_word.postag=NOUN', 'prev_word.isupper=False', 'prev_word.isdigit=False', 'prev_words.startsWithCapital=False'], ['word.lower=the', 'word.postag=NOUN', 'word[-3:]=the', 'word[-2:]=he', 'word.isupper=False', 'word.isdigit=False', 'words.startsWithCapital=False', 'prev_word.lower=if', 'prev_word.postag=NOUN', 'prev_word.isupper=False', 'prev_word.isdigit=False', 'prev_words.startsWithCapital=False'], ['word.lower=rate', 'word.postag=NOUN', 'word[-3:]=ate', 'word[-2:]=te', 'word.isupper=False', 'word.isdigit=False', 'words.startsWithCapital=False', 'prev_word.lower=the', 'prev_word.postag=NOUN', 'prev_word.isupper=False', 'prev_word.isdigit=False', 'prev_words.startsWithCapital=False'], ['word.lower=of', 'word.postag=NOUN', 'word[-3:]=of', 'word[-2:]=of', 'word.isupper=False', 'word.isdigit=False', 'words.startsWithCapital=False', 'prev_word.lower=rate', 'prev_word.postag=NOUN', 'prev_word.isupper=False', 'prev_word.isdigit=False', 'prev_words.startsWithCapital=False'], ['word.lower=preeclampsia', 'word.postag=NOUN', 'word[-3:]=sia', 'word[-2:]=ia', 'word.isupper=False', 'word.isdigit=False', 'words.startsWithCapital=False', 'prev_word.lower=of', 'prev_word.postag=NOUN', 'prev_word.isupper=False', 'prev_word.isdigit=False', 'prev_words.startsWithCapital=False'], ['word.lower=is', 'word.postag=NOUN', 'word[-3:]=is', 'word[-2:]=is', 'word.isupper=False', 'word.isdigit=False', 'words.startsWithCapital=False', 'prev_word.lower=preeclampsia', 'prev_word.postag=NOUN', 'prev_word.isupper=False', 'prev_word.isdigit=False', 'prev_words.startsWithCapital=False'], ['word.lower=increased', 'word.postag=NOUN', 'word[-3:]=sed', 'word[-2:]=ed', 'word.isupper=False', 'word.isdigit=False', 'words.startsWithCapital=False', 'prev_word.lower=is', 'prev_word.postag=NOUN', 'prev_word.isupper=False', 'prev_word.isdigit=False', 'prev_words.startsWithCapital=False'], ['word.lower=in', 'word.postag=NOUN', 'word[-3:]=in', 'word[-2:]=in', 'word.isupper=False', 'word.isdigit=False', 'words.startsWithCapital=False', 'prev_word.lower=increased', 'prev_word.postag=NOUN', 'prev_word.isupper=False', 'prev_word.isdigit=False', 'prev_words.startsWithCapital=False'], ['word.lower=triplet', 'word.postag=NOUN', 'word[-3:]=let', 'word[-2:]=et', 'word.isupper=False', 'word.isdigit=False', 'words.startsWithCapital=False', 'prev_word.lower=in', 'prev_word.postag=NOUN', 'prev_word.isupper=False', 'prev_word.isdigit=False', 'prev_words.startsWithCapital=False'], ['word.lower=as', 'word.postag=NOUN', 'word[-3:]=as', 'word[-2:]=as', 'word.isupper=False', 'word.isdigit=False', 'words.startsWithCapital=False', 'prev_word.lower=triplet', 'prev_word.postag=NOUN', 'prev_word.isupper=False', 'prev_word.isdigit=False', 'prev_words.startsWithCapital=False'], ['word.lower=compared', 'word.postag=NOUN', 'word[-3:]=red', 'word[-2:]=ed', 'word.isupper=False', 'word.isdigit=False', 'words.startsWithCapital=False', 'prev_word.lower=as', 'prev_word.postag=NOUN', 'prev_word.isupper=False', 'prev_word.isdigit=False', 'prev_words.startsWithCapital=False'], ['word.lower=to', 'word.postag=NOUN', 'word[-3:]=to', 'word[-2:]=to', 'word.isupper=False', 'word.isdigit=False', 'words.startsWithCapital=False', 'prev_word.lower=compared', 'prev_word.postag=NOUN', 'prev_word.isupper=False', 'prev_word.isdigit=False', 'prev_words.startsWithCapital=False'], ['word.lower=twin', 'word.postag=NOUN', 'word[-3:]=win', 'word[-2:]=in', 'word.isupper=False', 'word.isdigit=False', 'words.startsWithCapital=False', 'prev_word.lower=to', 'prev_word.postag=NOUN', 'prev_word.isupper=False', 'prev_word.isdigit=False', 'prev_words.startsWithCapital=False'], ['word.lower=gestations', 'word.postag=NOUN', 'word[-3:]=ons', 'word[-2:]=ns', 'word.isupper=False', 'word.isdigit=False', 'words.startsWithCapital=False', 'prev_word.lower=twin', 'prev_word.postag=NOUN', 'prev_word.isupper=False', 'prev_word.isdigit=False', 'prev_words.startsWithCapital=False', 'END']]\n"
     ]
    }
   ],
   "source": [
    "# Feature list of sentence above\n",
    "print(X_test[13])"
   ]
  },
  {
   "cell_type": "markdown",
   "id": "8d43ddec-ec31-4f3a-adb4-4a9abd84597e",
   "metadata": {},
   "source": [
    "### Identifying Diseases and Treatments using Custom NER"
   ]
  },
  {
   "cell_type": "code",
   "execution_count": 32,
   "id": "9edec76f-8d14-4939-b984-3677ed96e425",
   "metadata": {},
   "outputs": [],
   "source": [
    "# Extracting a dictionary of all the predicted diseases from our test data and the corresponding treatments.\n",
    "# Assumption: For each identified disease, one of the treatments is in the same sentence as the disease exists.\n",
    "disease_treatment = {}            # Initializing an empty dictionary\n",
    "for i in range(len(Y_pred)):\n",
    "    cnt_disease = 0           # Count of number of diseases mentioned in the sentence\n",
    "    cnt_treatment = 0         # Count of the number of treatments mentioned in the sentence\n",
    "    diseases = [\"\"]           # Initializing a blank list of diseases for current sentence.\n",
    "    treatment = [\"\"]          # Initializing a blank list of treatments for current sentence.\n",
    "    length = len(Y_pred[i])   # Length of current sentence.\n",
    "    for j in range(length):\n",
    "        if (Y_pred[i][j] == 'D'):                                                     # Checking for label indicating disease for current word ('D')\n",
    "            diseases[cnt_disease] += (X_test[i][j][0].split('=')[1] + \" \")            # Adding word to diseases list.\n",
    "            if j < length - 1:\n",
    "                if (Y_pred[i][j+1] != 'D'):                                           # Check for name of disease extending over multiple words. \n",
    "                    # If next word does not have label 'D', then truncate the space added at the end of the last word.\n",
    "                    diseases[cnt_disease] = diseases[cnt_disease][:-1]\n",
    "                    cnt_disease += 1\n",
    "                    diseases.append(\"\")                                               # Adding a placeholder for the next disease in the current sentence.\n",
    "            else:\n",
    "                diseases[cnt_disease] = diseases[cnt_disease][:-1]\n",
    "                cnt_disease += 1\n",
    "                diseases.append(\"\")\n",
    "                            \n",
    "        if (Y_pred[i][j] == 'T'):                                                     # Checking for label indicating treatment for current word ('T')\n",
    "            treatment[cnt_treatment] += (X_test[i][j][0].split('=')[1] + \" \") # Adding word to corresponding treatment list.\n",
    "            if j < length - 1:\n",
    "                if (Y_pred[i][j+1] != 'T'):                                           # Check for name of treatment extending over multiple words. \n",
    "                    # If next word does not have label 'T', then truncate the space added at the end of the last word.\n",
    "                    treatment[cnt_treatment] = treatment[cnt_treatment][:-1]\n",
    "                    cnt_treatment += 1\n",
    "                    treatment.append(\"\")                                              # Adding a placeholder for the next treatment in the current sentence.\n",
    "            else:\n",
    "                treatment[cnt_treatment] = treatment[cnt_treatment][:-1]\n",
    "                cnt_treatment += 1\n",
    "                treatment.append(\"\")\n",
    "\n",
    "    diseases.pop(-1)    # Getting rid of the last empty placeholder in diseases list\n",
    "    treatment.pop(-1)   # Getting rid of the last empty placeholder in treatments list\n",
    "\n",
    "    # To our dictionary, add or append treatments to the diseases identified from the current sentence, if any.\n",
    "    if len(diseases) > 0:       # Checking if any diseases have been identified for the current sentence.\n",
    "        for disease in diseases:\n",
    "            if disease in disease_treatment.keys():\n",
    "                # Extend treatment list if other treatments for the particular disease already exist\n",
    "                disease_treatment[disease].extend(treatment)\n",
    "            else:\n",
    "                # Creating list of treatments for particular disease if it doesn not exist already.\n",
    "                disease_treatment[disease] = treatment"
   ]
  },
  {
   "cell_type": "code",
   "execution_count": 33,
   "id": "a4f79ba7-33e3-4b3c-a094-03c51b17c79f",
   "metadata": {},
   "outputs": [
    {
     "data": {
      "text/plain": [
       "{'gestational diabetes cases': [],\n",
       " 'preeclampsia': [],\n",
       " 'severe preeclampsia': [],\n",
       " 'asymmetric double hemiplegia': [],\n",
       " 'reversible nonimmune hydrops fetalis': [],\n",
       " 'breast and/or ovarian cancer': [],\n",
       " 'breast cancer': ['hormone replacement therapy',\n",
       "  'undergone subcutaneous mastectomy'],\n",
       " 'ovarian cancer': ['hormone replacement therapy',\n",
       "  'undergone subcutaneous mastectomy'],\n",
       " 'prostate cancer': ['radical prostatectomy and iodine 125 interstitial radiotherapy'],\n",
       " 'mutated prostate cancer': ['radical prostatectomy and iodine 125 interstitial radiotherapy'],\n",
       " 'hereditary prostate cancer': [],\n",
       " 'multiple sclerosis ( ms )': [],\n",
       " 'hereditary retinoblastoma': ['radiotherapy'],\n",
       " 'epilepsy': [],\n",
       " 'unstable angina or non-q-wave myocardial infarction': ['roxithromycin'],\n",
       " 'coronary-artery disease': ['antichlamydial antibiotics'],\n",
       " 'early-stage cervical carcinoma': [],\n",
       " 'advanced disease': [],\n",
       " 'cerebral palsy': ['hyperbaric oxygen therapy'],\n",
       " 'severe pain': [],\n",
       " 'myofascial trigger point pain': [],\n",
       " 'infections': [],\n",
       " 'primary pulmonary hypertension ( pph )': ['fenfluramines'],\n",
       " 'essential hypertension': [],\n",
       " 'osteoporosis among older persons': [],\n",
       " 'foot infections': [],\n",
       " 'cellulitis': ['g-csf therapy', 'intravenous antibiotic treatment'],\n",
       " 'foot infection': [],\n",
       " 'hemorrhagic stroke': [],\n",
       " 'cardiac disease': [],\n",
       " 'rheumatoid arthritis': [],\n",
       " 'stroke victims': [],\n",
       " \"early parkinson 's disease\": ['ropinirole monotherapy'],\n",
       " 'sore throat': ['antibiotics'],\n",
       " 'upper respiratory conditions': [],\n",
       " 'sore throat increase reattendance': [],\n",
       " 'postoperative pain relief': [],\n",
       " 'analgesia when equianalgesic doses': [],\n",
       " 'chronic neutropenia': [],\n",
       " 'female stress urinary incontinence': ['surgical treatment'],\n",
       " 'stress urinary incontinence': ['therapy'],\n",
       " 'corpal gastritis': [],\n",
       " 'preeclampsia ( proteinuric hypertension )': ['intrauterine insemination with donor sperm versus intrauterine insemination'],\n",
       " 'mild preeclampsia': [],\n",
       " 'myocardial amyloidosis': [],\n",
       " 'heart failure': [],\n",
       " 'amyloidosis': [],\n",
       " 'cardiac amyloid heart disease': [],\n",
       " 'retinopathy': [],\n",
       " 'intra-abdominal injury': [],\n",
       " 'tangential gunshot wounds': [],\n",
       " 'intra-abdominal hemorrhage': [],\n",
       " 'severe acquired hyperammonemia': ['organ transplantation and chemotherapy',\n",
       "  'matrix metalloproteinase inhibitors'],\n",
       " 'cancer': ['organ transplantation and chemotherapy',\n",
       "  'matrix metalloproteinase inhibitors'],\n",
       " 'major pulmonary embolism': ['thrombolytic treatment'],\n",
       " 'congestive heart failure': [],\n",
       " 'chronic pulmonary disease': [],\n",
       " 'malignant pleural mesothelioma': ['thoracotomy , radiotherapy , and chemotherapy'],\n",
       " 'additional edema': [],\n",
       " 'dyskinesias': [],\n",
       " 'darier disease': [],\n",
       " 'tumor necrosis factor-alpha': [],\n",
       " 'syndrome of hemorrhagic shock and encephalopathy': [],\n",
       " 'tss': [],\n",
       " 'pulmonary symptoms attributable': ['chemotherapy'],\n",
       " 'non-obstructive azoospermia': ['testicular sperm retrieval by testicular fine needle aspiration ( tefna )',\n",
       "  'open biopsy and testicular sperm extraction ( tese )'],\n",
       " 'mantle cell lymphoma': [],\n",
       " 'acute lymphoblastic leukaemias': [],\n",
       " 'endometriosis': [],\n",
       " 'hyperlipidemias': [],\n",
       " 'deep vein thrombosis ( dvt )': [],\n",
       " 'hepatocerebral degeneration ( portal systemic encephalopathy )': [],\n",
       " 'mastitis': [],\n",
       " 'cervical carcinoma': [],\n",
       " 'duodenal ulcer': [],\n",
       " 'childhood schizophrenia': [],\n",
       " 'congenital adrenal hyperplasia': [],\n",
       " \"laennec 's cirrhosis\": [],\n",
       " 'renal stones': [],\n",
       " 'stone disease': [],\n",
       " 'congenital anomalies': [],\n",
       " 'ovarian carcinoma': [],\n",
       " 'heart congestive failure': [],\n",
       " 'biliary indication': [],\n",
       " 'piglet influenza': [],\n",
       " 'chronic progressive external ophthalmoplegia': [],\n",
       " 'cystic periventricular leukomalacia': [],\n",
       " 'metastasis of laryngeal carcinomas': [],\n",
       " 'hiv infection': [],\n",
       " 'graft spasm': [],\n",
       " 'renal dysfunction': [],\n",
       " 'colorectal cancer': ['elective surgery',\n",
       "  'docosahexanoic acid ( dha ) -concentrated fish oil'],\n",
       " \"leukaemia and non-hodgkin 's lymphoma\": [],\n",
       " 'childhood acute lymphoblastic leukaemia': [],\n",
       " 'gastrointestinal tumours': ['elective surgery'],\n",
       " 'chlamydia trachomatis': [],\n",
       " 'anemia of end-stage renal disease': [],\n",
       " 'malignant lymphomas': [],\n",
       " 'polymyalgia rheumatica and temporal arteritis': [],\n",
       " 'coronary heart disease': [],\n",
       " 'restenosis after coronary angioplasty': [],\n",
       " \"oral crohn 's disease\": [],\n",
       " 'gestational diabetes': [],\n",
       " 'bronchial asthma': [],\n",
       " 'disconnection syndrome': [],\n",
       " 'severe accidental hypothermia victims': [],\n",
       " 'hiv/aids': [],\n",
       " 'gunshot wounds': [],\n",
       " 'blastocystis hominis infection': [],\n",
       " 'does hyperglycemia really cause coronary heart disease': [],\n",
       " 'primary stomach lymphoma': [],\n",
       " 'systemic lupus erythematosus : mite dermatitis': [],\n",
       " 'lung cancer': [],\n",
       " 'metastatic malignant mesothelioma presenting as colonic polyps': [],\n",
       " \"parkinson 's disease\": ['microelectrode-guided posteroventral pallidotomy'],\n",
       " 'murine hepatitis virus strain 3 infection': [],\n",
       " 'synovial sarcoma': [],\n",
       " 'small cell lung cancer': [],\n",
       " 'acute respiratory distress syndrome': [],\n",
       " 'diabetes': [],\n",
       " 'chronic hepatitis': [],\n",
       " 'postraumatic stress disorder': [],\n",
       " 'kaposi sarcoma-associated herpesvirus infection': [],\n",
       " 'diabetes and hyperlipidemias': [],\n",
       " 'cardiac insufficiency': [],\n",
       " 'malignant soft tissue sarcomas': [],\n",
       " 'soft tissue sarcomas': ['radiotherapy'],\n",
       " 'intramedullary metastases of bronchogenic carcinoma': [],\n",
       " 'pseudo-lymphoma': [],\n",
       " 'auditory perception disorders due to bilateral cortical lesions': [],\n",
       " 'cerebral injuries': [],\n",
       " 'coronary endothelial dysfunction': [],\n",
       " 'myocardial perfusion defects': [],\n",
       " 'ectopic pregnancy': [],\n",
       " \"alzheimer 's disease\": [],\n",
       " \"eisenmenger 's syndrome\": ['laparoscopic cholecystectomy'],\n",
       " 'continuous ambulatory peritoneal dialysis': [],\n",
       " 'advanced esophageal cancer': ['adjuvant chemoradiotherapy with cddp'],\n",
       " 'sickle cell anemia': [],\n",
       " 'intractable seizures': [],\n",
       " 'new-onset angina preceding acute myocardial infarction': [],\n",
       " 'congenital bilateral aplasia': [],\n",
       " 'insulin-dependent diabetes mellitus': [],\n",
       " 'aids exceptionalism': [],\n",
       " 'myoepithelial carcinoma': [],\n",
       " 'pleomorphic adenoma': [],\n",
       " 'homocystinuria': [],\n",
       " 'malaria': [],\n",
       " 'severe psoriasis': [],\n",
       " 'leukemia': ['trisomy'],\n",
       " 'acute obstructive hydrocephalus complicating bacterial meningitis': [],\n",
       " 'refractory pouchitis': [],\n",
       " 'some malignant tumors such as non-small cell lung cancer': [],\n",
       " 'inoperable advanced malignancies such as colorectal cancer': ['combination with leucovorin or cisplatin'],\n",
       " 'advanced nsclc with manageable toxicities': [],\n",
       " 'recurrent cervical adenocarcinoma': [],\n",
       " 'influenza provides': [],\n",
       " 'influenza control': [],\n",
       " 'abdominal pain': [],\n",
       " 'pain': [],\n",
       " 'pleuritic pain': [],\n",
       " 'fungal infections': [],\n",
       " 'inflammatory skin diseases': ['topical corticosteroids'],\n",
       " 'unresectable stage iii nsclc': [],\n",
       " 'nsclc': ['got surgical treatment',\n",
       "  'radiotherapy',\n",
       "  'got surgical treatment',\n",
       "  'radiotherapy',\n",
       "  'platinum-based chemotherapy'],\n",
       " 'sclc': ['got surgical treatment',\n",
       "  'radiotherapy',\n",
       "  'got surgical treatment',\n",
       "  'radiotherapy',\n",
       "  'platinum-based chemotherapy'],\n",
       " 'locally advanced non-small-cell lung cancer ( la-nsclc )': ['chemotherapy and radiotherapy )'],\n",
       " 'radiation-induced myelopathy': ['heparin and enoxaparin'],\n",
       " 'limited stage small cell lung cancer': ['vip combination chemotherapy'],\n",
       " 'malignant pleural effusions from nsclc': ['systemic chemotherapy'],\n",
       " 'small-cell lung cancer': ['chemotherapy', 'combination chemotherapy'],\n",
       " 'intraluminal early-stage cancer': [],\n",
       " 'pathologic stage i non-small cell lung cancer': [],\n",
       " 'supraclavicular node metastases in nsclc': ['chemoradiotherapy'],\n",
       " 'non-small-cell-lung-cancer ( nsclc )': ['cisplatin and radiotherapy'],\n",
       " 'esophageal cancer': [],\n",
       " 'lung cancer )': [],\n",
       " 'osteogenic sarcoma': [],\n",
       " 'lung carcinoma': ['videothoracoscopic lobectomy or partial resection',\n",
       "  'open thoracotomy'],\n",
       " 'stage 0 lung carcinoma': ['curative therapy'],\n",
       " 'melanoma': ['surgical resection'],\n",
       " 'ovarian carcinoma brain metastasis': ['surgical resection'],\n",
       " 'colorectal metastases': ['therapeutic vats metastasectomy'],\n",
       " 'limited-stage small-cell carcinoma': [],\n",
       " 'advanced nsclc': ['assessing combination chemotherapy of cisplatin , ifosfamide and irinotecan with rhg-csf support'],\n",
       " 'metastatic colorectal cancer': ['intravenous oxaliplatin'],\n",
       " 'platinum-pretreated ovarian cancer': ['oxaliplatin'],\n",
       " \"non-hodgkin 's lymphoma , breast cancer\": ['oxaliplatin'],\n",
       " 'mesothelioma and non-small cell lung cancer': ['oxaliplatin'],\n",
       " 'bronchogenic carcinoma': [],\n",
       " 'non-small cell lung cancer': ['combination with paclitaxel and carboplatin'],\n",
       " 'advanced hormone refractory prostate cancer': ['combination with paclitaxel and carboplatin'],\n",
       " 'primary lung cancer': ['resection'],\n",
       " 'adenocarcinoma': ['resection'],\n",
       " 'squamous cell carcinoma': ['resection'],\n",
       " 'stage iii nsclc': ['chemotherapy administered before surgery'],\n",
       " 'primary cancer': ['adjuvant radiation therapy', 'immunotherapy'],\n",
       " 'advanced non -- small-cell lung cancer': ['paclitaxel plus carboplatin ( pc )',\n",
       "  'vinorelbine plus cisplatin ( vc )'],\n",
       " 'extensive disease': ['platinum dose ( cisplatin plus carboplatin ) in combination chemotherapy',\n",
       "  'combination therapy with carboplatin alone'],\n",
       " 'untreated small cell lung cancer ( sclc )': [],\n",
       " 'untreated sclc': [],\n",
       " 'pulmonary hypertension': [],\n",
       " 'neutropenia during cancer': ['chemotherapy'],\n",
       " 'head and neck cancer': ['intravenous amifostine'],\n",
       " ' xerostomia': ['intravenous amifostine'],\n",
       " 'carbon monoxide poisoning': [],\n",
       " 'acute myocardial infarction': ['thrombolytic therapy'],\n",
       " 'psoriasis': ['topical application of active vitamin d3 analogue , 1 alpha , 24-dihydroxycholecalciferol'],\n",
       " 'disseminated malignant melanoma': ['leukocyte a recombinant interferon ( rifn-alpha'],\n",
       " 'advanced stage ( tnm iib-ivb ) mycosis fungoides': ['a combination chemotherapy program consisting of bleomycin and methotrexate weekly , doxorubicin every'],\n",
       " 'ventricular tachycardia': ['guiding surgical therapy'],\n",
       " 'cholestasis': [],\n",
       " 'severe acute hepatitis accompanying cholestasis': [],\n",
       " 'autoimmune hepatitis': [],\n",
       " 'spinal adhesive arachnoiditis': ['surgical management'],\n",
       " 'bronchiectasis': ['antibiotics and surgery', 'current surgical therapy'],\n",
       " 'biliary colic symptoms': ['cholecystectomy'],\n",
       " 'biliary dyskinesia': ['cholecystectomy'],\n",
       " 'the common cold': ['pseudoephedrine plus acetaminophen'],\n",
       " 'pulmonary aspergilloma': [],\n",
       " 'viral infections': [],\n",
       " 'asthma': ['fluticasone propionate'],\n",
       " 'pneumocystis carinii pneumonia': [],\n",
       " 'acute nasopharyngitis ( anp )': ['antibiotic treatment'],\n",
       " 'symptoms of a common cold': ['macrolide antibiotics'],\n",
       " 'rhinovirus colds': ['clarithromycin'],\n",
       " 'rhinovirus': ['clarithromycin'],\n",
       " 'acute exacerbation of chronic bronchitis': [],\n",
       " 'pneumonia': [],\n",
       " 'influenza': [],\n",
       " 'influenza a2 ( h2n2 ) virus': [],\n",
       " 'infection': ['a combination of omeprazole , amoxicillin , and clarithromycin'],\n",
       " 'carcinoma': [],\n",
       " 'persistent asthma': ['contemporary asthma management guidelines list inhaled corticosteroids'],\n",
       " 'chronic hepatitis c': ['combination therapy with interferon-alpha ( ifn alpha ) plus ribavirin'],\n",
       " 'hepatitis c viremia': ['combination therapy'],\n",
       " 'severe hypoxemia': ['glucocorticoid pulse therapy'],\n",
       " 'drug-resistant s. pneumoniae': [],\n",
       " 'bacterial meningitis': [],\n",
       " 'haemophilus influenzae meningitis': [],\n",
       " 'asthmatic bronchitis': [],\n",
       " 'rsv bronchiolitis': [],\n",
       " 'primary sclerosing cholangitis ( psc )': [],\n",
       " 'chronic renal failure': [],\n",
       " 'ischemic heart disease': [],\n",
       " 'peritoneal tumors': ['subcutaneous injection of irradiated llc-il2'],\n",
       " 'acute occlusion of the middle cerebral artery': ['thrombolytic therapy'],\n",
       " 'benign prostatic hyperplasia': [],\n",
       " 'rheumatic pain herbal': [],\n",
       " 'inflammatory and autoimmune diseases': ['high-dose intravenous immunoglobulin ( hdivig )'],\n",
       " 'large midline incisional hernias': [],\n",
       " 'low-grade nhl': [],\n",
       " 'large-bowel cancer': [],\n",
       " 'phaeochromocytoma': ['adrenalectomy'],\n",
       " 'malignant melanoma': ['interferon alfa-2a'],\n",
       " 'advanced renal cell carcinoma': ['various interferon alpha preparations',\n",
       "  'interferon alfa-n1 , interferon alfa-2a , and interferon alfa-2b'],\n",
       " 'hairy cell leukemia': [],\n",
       " \"low-grade non-hodgkin 's lymphoma\": ['interferon alpha'],\n",
       " \"low-grade non-hodgkin 's lymphomas\": [],\n",
       " 'chronic myelogenous leukemia ( cml )': [],\n",
       " 'partial seizures': ['lamotrigine ( ltg )', 'lamotrigine monotherapy'],\n",
       " 'esophageal achalasia': ['botulinum toxin injection , pneumatic dilation , and laparoscopic myotomy'],\n",
       " 'irritable bowel syndrome': ['chinese herbal medicine'],\n",
       " 'proximal hypospadias': ['tubularized incised plate hypospadias repair'],\n",
       " 'tumors': ['immunotherapy'],\n",
       " 'sickle cell disease': [],\n",
       " 'haematoma block versus intravenous regional anaesthesia': [],\n",
       " 'stroke': [],\n",
       " 'mitomycin-resistant bladder cancer': ['photodynamic therapy in combination with mitomycin c'],\n",
       " 'b16 melanoma': ['adenosine triphosphate and treatment with buthionine sulfoximine'],\n",
       " 'primary uveal melanoma': ['transpupillary thermotherapy'],\n",
       " 'advanced rectal cancer': [],\n",
       " 'noncirrhotic portal hypertension': [],\n",
       " 'midline incisional hernias': [],\n",
       " 'empyema': [],\n",
       " \"non-hodgkin 's lymphoma\": [],\n",
       " 'acute cerebral ischemia': ['antiplatelet therapy'],\n",
       " 'hyperopia': [],\n",
       " 'renal cell carcinoma': ['interferon treatment'],\n",
       " 'odontogenic infections': [],\n",
       " 'myocardial angiogenesis': ['gene therapy'],\n",
       " 'autoimmune hemolytic anemia': ['heparin'],\n",
       " 'epithelial ovarian cancer': ['high-dose chemotherapy'],\n",
       " 'atrial fibrillation': ['antiplatelet therapy'],\n",
       " 'diabetes mellitus': [],\n",
       " 'lymphoma': [],\n",
       " 'acute repetitive seizures': [],\n",
       " 'moderately symptomatic benign prostatic hyperplasia': ['surgical resection'],\n",
       " 'multiple sclerosis': ['interferon beta treatment',\n",
       "  'intravenous immunoglobulin treatment'],\n",
       " 'acoustic neuroma': ['stereotactic radiosurgery'],\n",
       " 'postvitrectomy diabetic vitreous hemorrhage': ['peripheral retinal cryotherapy'],\n",
       " 'acute carbon monoxide poisoning': [],\n",
       " 'hepatitis b': ['vaccine containing mf59'],\n",
       " 'temporomandibular joint arthropathy': [],\n",
       " 'acute colonic pseudo-obstruction': [],\n",
       " 'severe secondary peritonitis': ['surgical management'],\n",
       " 'hepatic metastases from colorectal cancer': ['hepatic arterial infusion of chemotherapy after resection'],\n",
       " 'severe diverticular hemorrhage': [],\n",
       " 'stable asthma': [],\n",
       " 'arthritis': [],\n",
       " 'live oral poliovirus vaccines': [],\n",
       " 'glaucoma': [],\n",
       " 'responsive multiple myeloma': []}"
      ]
     },
     "execution_count": 33,
     "metadata": {},
     "output_type": "execute_result"
    }
   ],
   "source": [
    "# Displaying dictionary of extracted diseases and potential treatments.\n",
    "disease_treatment"
   ]
  },
  {
   "cell_type": "code",
   "execution_count": 34,
   "id": "0c9732d1-6d28-4eb3-96bb-97d22e2a2531",
   "metadata": {},
   "outputs": [
    {
     "data": {
      "text/plain": [
       "{'breast cancer': ['hormone replacement therapy',\n",
       "  'undergone subcutaneous mastectomy'],\n",
       " 'ovarian cancer': ['hormone replacement therapy',\n",
       "  'undergone subcutaneous mastectomy'],\n",
       " 'prostate cancer': ['radical prostatectomy and iodine 125 interstitial radiotherapy'],\n",
       " 'mutated prostate cancer': ['radical prostatectomy and iodine 125 interstitial radiotherapy'],\n",
       " 'hereditary retinoblastoma': ['radiotherapy'],\n",
       " 'unstable angina or non-q-wave myocardial infarction': ['roxithromycin'],\n",
       " 'coronary-artery disease': ['antichlamydial antibiotics'],\n",
       " 'cerebral palsy': ['hyperbaric oxygen therapy'],\n",
       " 'primary pulmonary hypertension ( pph )': ['fenfluramines'],\n",
       " 'cellulitis': ['g-csf therapy', 'intravenous antibiotic treatment'],\n",
       " \"early parkinson 's disease\": ['ropinirole monotherapy'],\n",
       " 'sore throat': ['antibiotics'],\n",
       " 'female stress urinary incontinence': ['surgical treatment'],\n",
       " 'stress urinary incontinence': ['therapy'],\n",
       " 'preeclampsia ( proteinuric hypertension )': ['intrauterine insemination with donor sperm versus intrauterine insemination'],\n",
       " 'severe acquired hyperammonemia': ['organ transplantation and chemotherapy',\n",
       "  'matrix metalloproteinase inhibitors'],\n",
       " 'cancer': ['organ transplantation and chemotherapy',\n",
       "  'matrix metalloproteinase inhibitors'],\n",
       " 'major pulmonary embolism': ['thrombolytic treatment'],\n",
       " 'malignant pleural mesothelioma': ['thoracotomy , radiotherapy , and chemotherapy'],\n",
       " 'pulmonary symptoms attributable': ['chemotherapy'],\n",
       " 'non-obstructive azoospermia': ['testicular sperm retrieval by testicular fine needle aspiration ( tefna )',\n",
       "  'open biopsy and testicular sperm extraction ( tese )'],\n",
       " 'colorectal cancer': ['elective surgery',\n",
       "  'docosahexanoic acid ( dha ) -concentrated fish oil'],\n",
       " 'gastrointestinal tumours': ['elective surgery'],\n",
       " \"parkinson 's disease\": ['microelectrode-guided posteroventral pallidotomy'],\n",
       " 'soft tissue sarcomas': ['radiotherapy'],\n",
       " \"eisenmenger 's syndrome\": ['laparoscopic cholecystectomy'],\n",
       " 'advanced esophageal cancer': ['adjuvant chemoradiotherapy with cddp'],\n",
       " 'leukemia': ['trisomy'],\n",
       " 'inoperable advanced malignancies such as colorectal cancer': ['combination with leucovorin or cisplatin'],\n",
       " 'inflammatory skin diseases': ['topical corticosteroids'],\n",
       " 'nsclc': ['got surgical treatment',\n",
       "  'radiotherapy',\n",
       "  'got surgical treatment',\n",
       "  'radiotherapy',\n",
       "  'platinum-based chemotherapy'],\n",
       " 'sclc': ['got surgical treatment',\n",
       "  'radiotherapy',\n",
       "  'got surgical treatment',\n",
       "  'radiotherapy',\n",
       "  'platinum-based chemotherapy'],\n",
       " 'locally advanced non-small-cell lung cancer ( la-nsclc )': ['chemotherapy and radiotherapy )'],\n",
       " 'radiation-induced myelopathy': ['heparin and enoxaparin'],\n",
       " 'limited stage small cell lung cancer': ['vip combination chemotherapy'],\n",
       " 'malignant pleural effusions from nsclc': ['systemic chemotherapy'],\n",
       " 'small-cell lung cancer': ['chemotherapy', 'combination chemotherapy'],\n",
       " 'supraclavicular node metastases in nsclc': ['chemoradiotherapy'],\n",
       " 'non-small-cell-lung-cancer ( nsclc )': ['cisplatin and radiotherapy'],\n",
       " 'lung carcinoma': ['videothoracoscopic lobectomy or partial resection',\n",
       "  'open thoracotomy'],\n",
       " 'stage 0 lung carcinoma': ['curative therapy'],\n",
       " 'melanoma': ['surgical resection'],\n",
       " 'ovarian carcinoma brain metastasis': ['surgical resection'],\n",
       " 'colorectal metastases': ['therapeutic vats metastasectomy'],\n",
       " 'advanced nsclc': ['assessing combination chemotherapy of cisplatin , ifosfamide and irinotecan with rhg-csf support'],\n",
       " 'metastatic colorectal cancer': ['intravenous oxaliplatin'],\n",
       " 'platinum-pretreated ovarian cancer': ['oxaliplatin'],\n",
       " \"non-hodgkin 's lymphoma , breast cancer\": ['oxaliplatin'],\n",
       " 'mesothelioma and non-small cell lung cancer': ['oxaliplatin'],\n",
       " 'non-small cell lung cancer': ['combination with paclitaxel and carboplatin'],\n",
       " 'advanced hormone refractory prostate cancer': ['combination with paclitaxel and carboplatin'],\n",
       " 'primary lung cancer': ['resection'],\n",
       " 'adenocarcinoma': ['resection'],\n",
       " 'squamous cell carcinoma': ['resection'],\n",
       " 'stage iii nsclc': ['chemotherapy administered before surgery'],\n",
       " 'primary cancer': ['adjuvant radiation therapy', 'immunotherapy'],\n",
       " 'advanced non -- small-cell lung cancer': ['paclitaxel plus carboplatin ( pc )',\n",
       "  'vinorelbine plus cisplatin ( vc )'],\n",
       " 'extensive disease': ['platinum dose ( cisplatin plus carboplatin ) in combination chemotherapy',\n",
       "  'combination therapy with carboplatin alone'],\n",
       " 'neutropenia during cancer': ['chemotherapy'],\n",
       " 'head and neck cancer': ['intravenous amifostine'],\n",
       " ' xerostomia': ['intravenous amifostine'],\n",
       " 'acute myocardial infarction': ['thrombolytic therapy'],\n",
       " 'psoriasis': ['topical application of active vitamin d3 analogue , 1 alpha , 24-dihydroxycholecalciferol'],\n",
       " 'disseminated malignant melanoma': ['leukocyte a recombinant interferon ( rifn-alpha'],\n",
       " 'advanced stage ( tnm iib-ivb ) mycosis fungoides': ['a combination chemotherapy program consisting of bleomycin and methotrexate weekly , doxorubicin every'],\n",
       " 'ventricular tachycardia': ['guiding surgical therapy'],\n",
       " 'spinal adhesive arachnoiditis': ['surgical management'],\n",
       " 'bronchiectasis': ['antibiotics and surgery', 'current surgical therapy'],\n",
       " 'biliary colic symptoms': ['cholecystectomy'],\n",
       " 'biliary dyskinesia': ['cholecystectomy'],\n",
       " 'the common cold': ['pseudoephedrine plus acetaminophen'],\n",
       " 'asthma': ['fluticasone propionate'],\n",
       " 'acute nasopharyngitis ( anp )': ['antibiotic treatment'],\n",
       " 'symptoms of a common cold': ['macrolide antibiotics'],\n",
       " 'rhinovirus colds': ['clarithromycin'],\n",
       " 'rhinovirus': ['clarithromycin'],\n",
       " 'infection': ['a combination of omeprazole , amoxicillin , and clarithromycin'],\n",
       " 'persistent asthma': ['contemporary asthma management guidelines list inhaled corticosteroids'],\n",
       " 'chronic hepatitis c': ['combination therapy with interferon-alpha ( ifn alpha ) plus ribavirin'],\n",
       " 'hepatitis c viremia': ['combination therapy'],\n",
       " 'severe hypoxemia': ['glucocorticoid pulse therapy'],\n",
       " 'peritoneal tumors': ['subcutaneous injection of irradiated llc-il2'],\n",
       " 'acute occlusion of the middle cerebral artery': ['thrombolytic therapy'],\n",
       " 'inflammatory and autoimmune diseases': ['high-dose intravenous immunoglobulin ( hdivig )'],\n",
       " 'phaeochromocytoma': ['adrenalectomy'],\n",
       " 'malignant melanoma': ['interferon alfa-2a'],\n",
       " 'advanced renal cell carcinoma': ['various interferon alpha preparations',\n",
       "  'interferon alfa-n1 , interferon alfa-2a , and interferon alfa-2b'],\n",
       " \"low-grade non-hodgkin 's lymphoma\": ['interferon alpha'],\n",
       " 'partial seizures': ['lamotrigine ( ltg )', 'lamotrigine monotherapy'],\n",
       " 'esophageal achalasia': ['botulinum toxin injection , pneumatic dilation , and laparoscopic myotomy'],\n",
       " 'irritable bowel syndrome': ['chinese herbal medicine'],\n",
       " 'proximal hypospadias': ['tubularized incised plate hypospadias repair'],\n",
       " 'tumors': ['immunotherapy'],\n",
       " 'mitomycin-resistant bladder cancer': ['photodynamic therapy in combination with mitomycin c'],\n",
       " 'b16 melanoma': ['adenosine triphosphate and treatment with buthionine sulfoximine'],\n",
       " 'primary uveal melanoma': ['transpupillary thermotherapy'],\n",
       " 'acute cerebral ischemia': ['antiplatelet therapy'],\n",
       " 'renal cell carcinoma': ['interferon treatment'],\n",
       " 'myocardial angiogenesis': ['gene therapy'],\n",
       " 'autoimmune hemolytic anemia': ['heparin'],\n",
       " 'epithelial ovarian cancer': ['high-dose chemotherapy'],\n",
       " 'atrial fibrillation': ['antiplatelet therapy'],\n",
       " 'moderately symptomatic benign prostatic hyperplasia': ['surgical resection'],\n",
       " 'multiple sclerosis': ['interferon beta treatment',\n",
       "  'intravenous immunoglobulin treatment'],\n",
       " 'acoustic neuroma': ['stereotactic radiosurgery'],\n",
       " 'postvitrectomy diabetic vitreous hemorrhage': ['peripheral retinal cryotherapy'],\n",
       " 'hepatitis b': ['vaccine containing mf59'],\n",
       " 'severe secondary peritonitis': ['surgical management'],\n",
       " 'hepatic metastases from colorectal cancer': ['hepatic arterial infusion of chemotherapy after resection']}"
      ]
     },
     "execution_count": 34,
     "metadata": {},
     "output_type": "execute_result"
    }
   ],
   "source": [
    "# Obtaining a cleaned version of our \"disease_treatment\" dictionary\n",
    "cleaned_dict = {}\n",
    "for key in disease_treatment.keys():\n",
    "    if disease_treatment[key] != []:\n",
    "        cleaned_dict[key] = disease_treatment[key]\n",
    "cleaned_dict"
   ]
  },
  {
   "cell_type": "code",
   "execution_count": 35,
   "id": "6430a36f-494a-49c4-aed1-54597ac6bf19",
   "metadata": {},
   "outputs": [
    {
     "data": {
      "text/html": [
       "<div>\n",
       "<style scoped>\n",
       "    .dataframe tbody tr th:only-of-type {\n",
       "        vertical-align: middle;\n",
       "    }\n",
       "\n",
       "    .dataframe tbody tr th {\n",
       "        vertical-align: top;\n",
       "    }\n",
       "\n",
       "    .dataframe thead th {\n",
       "        text-align: right;\n",
       "    }\n",
       "</style>\n",
       "<table border=\"1\" class=\"dataframe\">\n",
       "  <thead>\n",
       "    <tr style=\"text-align: right;\">\n",
       "      <th></th>\n",
       "      <th>Disease</th>\n",
       "      <th>Treatments</th>\n",
       "    </tr>\n",
       "  </thead>\n",
       "  <tbody>\n",
       "    <tr>\n",
       "      <th>0</th>\n",
       "      <td>breast cancer</td>\n",
       "      <td>[hormone replacement therapy, undergone subcut...</td>\n",
       "    </tr>\n",
       "    <tr>\n",
       "      <th>1</th>\n",
       "      <td>ovarian cancer</td>\n",
       "      <td>[hormone replacement therapy, undergone subcut...</td>\n",
       "    </tr>\n",
       "    <tr>\n",
       "      <th>2</th>\n",
       "      <td>prostate cancer</td>\n",
       "      <td>[radical prostatectomy and iodine 125 intersti...</td>\n",
       "    </tr>\n",
       "    <tr>\n",
       "      <th>3</th>\n",
       "      <td>mutated prostate cancer</td>\n",
       "      <td>[radical prostatectomy and iodine 125 intersti...</td>\n",
       "    </tr>\n",
       "    <tr>\n",
       "      <th>4</th>\n",
       "      <td>hereditary retinoblastoma</td>\n",
       "      <td>[radiotherapy]</td>\n",
       "    </tr>\n",
       "  </tbody>\n",
       "</table>\n",
       "</div>"
      ],
      "text/plain": [
       "                     Disease  \\\n",
       "0              breast cancer   \n",
       "1             ovarian cancer   \n",
       "2            prostate cancer   \n",
       "3    mutated prostate cancer   \n",
       "4  hereditary retinoblastoma   \n",
       "\n",
       "                                          Treatments  \n",
       "0  [hormone replacement therapy, undergone subcut...  \n",
       "1  [hormone replacement therapy, undergone subcut...  \n",
       "2  [radical prostatectomy and iodine 125 intersti...  \n",
       "3  [radical prostatectomy and iodine 125 intersti...  \n",
       "4                                     [radiotherapy]  "
      ]
     },
     "execution_count": 35,
     "metadata": {},
     "output_type": "execute_result"
    }
   ],
   "source": [
    "# Converting dictionary to a dataframe\n",
    "cleaned_df = pd.DataFrame({\"Disease\":cleaned_dict.keys(),\"Treatments\":cleaned_dict.values()})\n",
    "cleaned_df.head()"
   ]
  },
  {
   "cell_type": "markdown",
   "id": "9997f086-d892-422e-8179-d4ae14b1c566",
   "metadata": {},
   "source": [
    "### Predicting the treatment for the disease 'hereditary retinoblastoma'"
   ]
  },
  {
   "cell_type": "code",
   "execution_count": 36,
   "id": "cfda03f6-4740-4d2b-9f91-ae54ac26cff8",
   "metadata": {},
   "outputs": [
    {
     "name": "stdout",
     "output_type": "stream",
     "text": [
      "Treatments for 'hereditary retinoblastoma' is/are 'radiotherapy'\n"
     ]
    }
   ],
   "source": [
    "search_item = 'hereditary retinoblastoma'\n",
    "treatments = cleaned_dict[search_item]\n",
    "print(\"Treatments for '{0}' is/are \".format(search_item), end = \"\")\n",
    "for i in range(len(treatments)-1):\n",
    "    print(\"'{}'\".format(treatments[i]),\",\", end=\"\")\n",
    "print(\"'{}'\".format(treatments[-1]))"
   ]
  },
  {
   "cell_type": "code",
   "execution_count": null,
   "id": "ee140005-ce26-4c77-ae7d-0d803d3824f2",
   "metadata": {},
   "outputs": [],
   "source": []
  }
 ],
 "metadata": {
  "kernelspec": {
   "display_name": "Python 3 (ipykernel)",
   "language": "python",
   "name": "python3"
  },
  "language_info": {
   "codemirror_mode": {
    "name": "ipython",
    "version": 3
   },
   "file_extension": ".py",
   "mimetype": "text/x-python",
   "name": "python",
   "nbconvert_exporter": "python",
   "pygments_lexer": "ipython3",
   "version": "3.11.9"
  }
 },
 "nbformat": 4,
 "nbformat_minor": 5
}
